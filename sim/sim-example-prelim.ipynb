{
 "cells": [
  {
   "cell_type": "markdown",
   "metadata": {},
   "source": [
    "# Data Science Incubator Project Idea\n",
    "\n",
    "This notebook contains results from the simulations as described by Lorch et al., 2020 [paper](https://arxiv.org/abs/2004.07641) and with alternations that simulate public gatherings, different essential workers, and a few more adjustments.\n",
    "\n",
    "The notebook is organized as follows:\n",
    "\n",
    "* In Section 1, we define all the simulation parameters.\n",
    "* In Section 2, we plot the results from Wave 2 assuming Contact Tracing at SF rates and Wave 2 assuming no CT.\n",
    "\n",
    "\n",
    "---"
   ]
  },
  {
   "cell_type": "markdown",
   "metadata": {},
   "source": [
    "## 1. Define the experiment parameters"
   ]
  },
  {
   "cell_type": "markdown",
   "metadata": {},
   "source": [
    "#### Import libs"
   ]
  },
  {
   "cell_type": "code",
   "execution_count": 1,
   "metadata": {},
   "outputs": [],
   "source": [
    "import numpy as np\n",
    "import pickle, math\n",
    "import pandas as pd\n",
    "import multiprocessing"
   ]
  },
  {
   "cell_type": "code",
   "execution_count": 2,
   "metadata": {},
   "outputs": [],
   "source": [
    "%load_ext autoreload\n",
    "%autoreload 2\n",
    "from lib.mobilitysim import MobilitySimulator\n",
    "from lib.parallel import launch_parallel_simulations\n",
    "from lib.distributions import CovidDistributions\n",
    "from lib.data import collect_data_from_df\n",
    "from lib.measures import (MeasureList, Interval,\n",
    "                          BetaMultiplierMeasureByType,\n",
    "                          SocialDistancingForAllMeasure, \n",
    "                          SocialDistancingForPositiveMeasure,\n",
    "                          SocialDistancingForPositiveMeasureHousehold)\n",
    "from lib.inference import gen_initial_seeds, extract_seeds_from_summary\n",
    "from lib.plot import Plotter\n",
    "from lib.runutils import *\n",
    "import matplotlib.pyplot as plt\n",
    "%matplotlib inline\n",
    "\n",
    "# converting days to hours\n",
    "TO_HOURS = 24.0"
   ]
  },
  {
   "cell_type": "markdown",
   "metadata": {},
   "source": [
    "#### Set the random seed for reproducibility"
   ]
  },
  {
   "cell_type": "code",
   "execution_count": 3,
   "metadata": {},
   "outputs": [],
   "source": [
    "# Choose random seed\n",
    "c = 0\n",
    "# Set it\n",
    "np.random.seed(c)\n",
    "# Define prefix string used to save plots\n",
    "runstr = f'run{c}_'"
   ]
  },
  {
   "cell_type": "markdown",
   "metadata": {},
   "source": [
    "#### Set the number of roll-outs to simulate"
   ]
  },
  {
   "cell_type": "code",
   "execution_count": 4,
   "metadata": {},
   "outputs": [],
   "source": [
    "random_repeats = 40 # Set to at least 40 to obtain stable results"
   ]
  },
  {
   "cell_type": "markdown",
   "metadata": {},
   "source": [
    "#### Define the number of parallel workers used for simulations "
   ]
  },
  {
   "cell_type": "code",
   "execution_count": 5,
   "metadata": {},
   "outputs": [],
   "source": [
    "num_workers = multiprocessing.cpu_count() - 1"
   ]
  },
  {
   "cell_type": "markdown",
   "metadata": {},
   "source": [
    "#### Set the time to simulate"
   ]
  },
  {
   "cell_type": "code",
   "execution_count": 6,
   "metadata": {},
   "outputs": [],
   "source": [
    "start_date = '2020-05-26'\n",
    "end_date = '2020-08-26'\n",
    "sim_days = (pd.to_datetime(end_date) - pd.to_datetime(start_date)).days\n",
    "max_time = TO_HOURS * sim_days # in hours"
   ]
  },
  {
   "cell_type": "markdown",
   "metadata": {},
   "source": [
    "#### Define population/mobility parameters\n",
    "\n",
    "Import downsampled version of Tübingen (population downsampled by 20x, sites by 10x) that was used used to generate mobility traces on the fly for inference (sites, home locations, etc)\n",
    "\n",
    "Check out `lib/mobility/` and `lib/settings/` for all pre-generated towns in Germany and Switzerland. "
   ]
  },
  {
   "cell_type": "code",
   "execution_count": 7,
   "metadata": {},
   "outputs": [],
   "source": [
    "from lib.settings.town_settings_tubingen import *\n",
    "mob_settings = 'lib/mobility/San_Francisco_settings_100_type0-1-2-3-4_20pct_social_graph_homesite_new_mob.pk'  \n",
    "area = 'SF'\n",
    "country = 'US'\n",
    "\n",
    "# See town-generator.ipynb for an example on how to create the settings\n",
    "with open(mob_settings, 'rb') as fp:\n",
    "    obj = pickle.load(fp)\n",
    "mob = MobilitySimulator(**obj)\n",
    "downsample = mob.downsample"
   ]
  },
  {
   "cell_type": "markdown",
   "metadata": {},
   "source": [
    "#### Load the case data\n",
    "\n",
    "Adjust the number of cases to the down-scaling of the population"
   ]
  },
  {
   "cell_type": "code",
   "execution_count": 8,
   "metadata": {},
   "outputs": [
    {
     "name": "stdout",
     "output_type": "stream",
     "text": [
      "[2496. 2530. 2553. 2583. 2605. 2630. 2668. 2713. 2740. 2778. 2807. 2823.\n",
      " 2841. 2876. 2909. 2928. 2951. 2978. 2998. 3013. 3048. 3096. 3147. 3192.\n",
      " 3235. 3276. 3308. 3413. 3492. 3553. 3620. 3689. 3740. 3777. 3849. 3947.\n",
      " 4025. 4128. 4208. 4235. 4285. 4371. 4471. 4582. 4689. 4819. 4886. 4952.\n",
      " 5091. 5251. 5405. 5551. 5706. 5786. 5860. 6005. 6133. 6259. 6381. 6501.\n",
      " 6580. 6639. 6731. 6827. 6964. 7090. 7205. 7271. 7316. 7420. 7503. 7635.\n",
      " 7735. 7865. 7926. 7986. 8088. 8194. 8328. 8431. 8539. 8604. 8642. 8723.\n",
      " 8805. 8901. 8986. 9064. 9107. 9147. 9239. 9318. 9408.]\n"
     ]
    },
    {
     "data": {
      "image/png": "[encoded data removed]",
      "text/plain": [
       "<Figure size 432x288 with 1 Axes>"
      ]
     },
     "metadata": {
      "needs_background": "light"
     },
     "output_type": "display_data"
    }
   ],
   "source": [
    "new_cases_ = collect_data_from_df(country=country, area=area, datatype='new',\n",
    "    start_date_string=start_date,  end_date_string=end_date)\n",
    "# new_cases = new_cases_\n",
    "new_cases = np.ceil(\n",
    "        (new_cases_ * mob.num_people_unscaled) /\n",
    "        (1 * mob.region_population))\n",
    "print((new_cases.sum(1)))\n",
    "plt.plot(new_cases.sum(1));"
   ]
  },
  {
   "cell_type": "markdown",
   "metadata": {},
   "source": [
    "## 2. Plot the results"
   ]
  },
  {
   "cell_type": "markdown",
   "metadata": {},
   "source": [
    "Load the summary holding the results of the experiment to plot."
   ]
  },
  {
   "cell_type": "code",
   "execution_count": 10,
   "metadata": {},
   "outputs": [],
   "source": [
    "summary_CT = load_summary('wave2opt_wave2_CT.pk')\n",
    "summary_noCT = load_summary('wave2opt_wave2.pk')"
   ]
  },
  {
   "cell_type": "markdown",
   "metadata": {},
   "source": [
    "Calculate the average number of lives saved due to manual contact tracing. Compare simulation with contact tracing and without contact tracing. "
   ]
  },
  {
   "cell_type": "code",
   "execution_count": 14,
   "metadata": {},
   "outputs": [
    {
     "name": "stdout",
     "output_type": "stream",
     "text": [
      "15337.5\n",
      "15129.999999999998\n",
      "207.5000000000017\n"
     ]
    }
   ],
   "source": [
    "print(num_infected(summary_CT['basic'][0])*downsample)\n",
    "print(num_infected(summary_noCT['basic'][0])*downsample)\n",
    "average_exposure_prevented = (num_infected(summary_CT['basic'][0])-num_infected(summary_noCT['basic'][0]))*downsample\n",
    "print(average_exposure_prevented)"
   ]
  },
  {
   "cell_type": "code",
   "execution_count": 16,
   "metadata": {},
   "outputs": [
    {
     "name": "stdout",
     "output_type": "stream",
     "text": [
      "2065.0\n",
      "2070.0\n",
      "-5.000000000000071\n"
     ]
    }
   ],
   "source": [
    "from lib.runutils import num_essential_infected\n",
    "print(num_essential_infected(summary_CT['basic'][0])*downsample)\n",
    "print(num_essential_infected(summary_noCT['basic'][0])*downsample)\n",
    "average_essential_exposure_prevented = (num_essential_infected(summary_CT['basic'][0])-num_essential_infected(summary_noCT['basic'][0]))*downsample\n",
    "print(average_essential_exposure_prevented)"
   ]
  },
  {
   "cell_type": "markdown",
   "metadata": {},
   "source": [
    "Example plot (a)"
   ]
  },
  {
   "cell_type": "code",
   "execution_count": 17,
   "metadata": {},
   "outputs": [
    {
     "data": {
      "image/png": "[encoded data removed]",
      "text/plain": [
       "<Figure size 720x432 with 1 Axes>"
      ]
     },
     "metadata": {
      "needs_background": "light"
     },
     "output_type": "display_data"
    }
   ],
   "source": [
    "lockdown_at_day = 17\n",
    "plotter = Plotter()\n",
    "plotter.plot_positives_vs_target(\n",
    "    summary_CT['basic'][0], new_cases.sum(axis=1), \n",
    "    title='Example', \n",
    "    filename=runstr + 'ex_00',\n",
    "    figsize=(10, 6),\n",
    "    start_date=start_date,\n",
    "    errorevery=1, acc=1000, \n",
    "    ymax=50000,\n",
    "    downsample=downsample)\n"
   ]
  },
  {
   "cell_type": "code",
   "execution_count": 18,
   "metadata": {},
   "outputs": [
    {
     "data": {
      "image/png": "[encoded data removed]",
      "text/plain": [
       "<Figure size 720x432 with 1 Axes>"
      ]
     },
     "metadata": {
      "needs_background": "light"
     },
     "output_type": "display_data"
    }
   ],
   "source": [
    "lockdown_at_day = 17\n",
    "plotter = Plotter()\n",
    "plotter.plot_positives_vs_target(\n",
    "    summary_noCT['basic'][0], new_cases.sum(axis=1), \n",
    "    title='Example', \n",
    "    filename=runstr + 'ex_00',\n",
    "    figsize=(10, 6),\n",
    "    start_date=start_date,\n",
    "    errorevery=1, acc=1000, \n",
    "#     lockdown_at=lockdown_at_day,\n",
    "    ymax=50000,\n",
    "    downsample=downsample)"
   ]
  },
  {
   "cell_type": "code",
   "execution_count": null,
   "metadata": {},
   "outputs": [],
   "source": []
  }
 ],
 "metadata": {
  "kernelspec": {
   "display_name": "Python 3",
   "language": "python",
   "name": "python3"
  },
  "language_info": {
   "codemirror_mode": {
    "name": "ipython",
    "version": 3
   },
   "file_extension": ".py",
   "mimetype": "text/x-python",
   "name": "python",
   "nbconvert_exporter": "python",
   "pygments_lexer": "ipython3",
   "version": "3.7.6"
  }
 },
 "nbformat": 4,
 "nbformat_minor": 2
}
